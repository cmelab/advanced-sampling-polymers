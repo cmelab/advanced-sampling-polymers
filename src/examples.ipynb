{
 "cells": [
  {
   "cell_type": "code",
   "execution_count": 1,
   "id": "ebd37904",
   "metadata": {},
   "outputs": [
    {
     "name": "stderr",
     "output_type": "stream",
     "text": [
      "Warning: importing 'simtk.openmm' is deprecated.  Import 'openmm' instead.\n"
     ]
    }
   ],
   "source": [
    "from molecules import PPS, PolyEthylene\n",
    "from system import System\n",
    "from simulation import Simulation\n",
    "import foyer\n",
    "import warnings\n",
    "warnings.filterwarnings(\"ignore\")"
   ]
  },
  {
   "cell_type": "markdown",
   "id": "34bef1ea",
   "metadata": {},
   "source": [
    "# Using the recipes in molecules.py:\n",
    "\n",
    "molecules.py contains classes for different monomers.  \n",
    "These classes can be thought of as recipes or templates\n",
    "to quickly build up polymer chains of any length"
   ]
  },
  {
   "cell_type": "code",
   "execution_count": 17,
   "id": "c7a21879",
   "metadata": {},
   "outputs": [
    {
     "data": {
      "application/3dmoljs_load.v0": "<div id=\"3dmolviewer_167478883061999\"  style=\"position: relative; width: 640px; height: 480px\">\n        <p id=\"3dmolwarning_167478883061999\" style=\"background-color:#ffcccc;color:black\">You appear to be running in JupyterLab (or JavaScript failed to load for some other reason).  You need to install the 3dmol extension: <br>\n        <tt>jupyter labextension install jupyterlab_3dmol</tt></p>\n        </div>\n<script>\n\nvar loadScriptAsync = function(uri){\n  return new Promise((resolve, reject) => {\n    //this is to ignore the existence of requirejs amd\n    var savedexports, savedmodule;\n    if (typeof exports !== 'undefined') savedexports = exports;\n    else exports = {}\n    if (typeof module !== 'undefined') savedmodule = module;\n    else module = {}\n\n    var tag = document.createElement('script');\n    tag.src = uri;\n    tag.async = true;\n    tag.onload = () => {\n        exports = savedexports;\n        module = savedmodule;\n        resolve();\n    };\n  var firstScriptTag = document.getElementsByTagName('script')[0];\n  firstScriptTag.parentNode.insertBefore(tag, firstScriptTag);\n});\n};\n\nif(typeof $3Dmolpromise === 'undefined') {\n$3Dmolpromise = null;\n  $3Dmolpromise = loadScriptAsync('https://cdn.jsdelivr.net/npm/3dmol@latest/build/3Dmol-min.min.js');\n}\n\nvar viewer_167478883061999 = null;\nvar warn = document.getElementById(\"3dmolwarning_167478883061999\");\nif(warn) {\n    warn.parentNode.removeChild(warn);\n}\n$3Dmolpromise.then(function() {\nviewer_167478883061999 = $3Dmol.createViewer(document.getElementById(\"3dmolviewer_167478883061999\"),{backgroundColor:\"white\"});\nviewer_167478883061999.zoomTo();\n\tviewer_167478883061999.addModel(\"@<TRIPOS>MOLECULE\\nRES\\n57 61 1 0 1\\nSMALL\\nNO_CHARGES\\n@<TRIPOS>CRYSIN\\n   37.1577     5.8905     9.3059    90.0000    90.0000    90.0000  1  1\\n@<TRIPOS>ATOM\\n       1 C            1.7051     0.0421     0.0000 C             1 RES     \\n       2 C            1.0063     0.0692    -1.2113 C             1 RES     \\n       3 C           -0.3915     0.1236    -1.2122 C             1 RES     \\n       4 C           -1.0924     0.1505     0.0000 C             1 RES     \\n       5 S           -2.8809     0.2202     0.0000 S             1 RES     \\n       6 C           -0.3915     0.1236     1.2122 C             1 RES     \\n       7 C            1.0063     0.0693     1.2113 C             1 RES     \\n       8 H            1.5475     0.0482    -2.1484 H             1 RES     \\n       9 H           -0.9269     0.1442    -2.1529 H             1 RES     \\n      10 H           -0.9269     0.1442     2.1529 H             1 RES     \\n      11 H            1.5475     0.0482     2.1484 H             1 RES     \\n      12 C           -4.6409     0.2202    -0.0000 C             1 RES     \\n      13 C           -5.3396     0.2473    -1.2113 C             1 RES     \\n      14 C           -6.7374     0.3017    -1.2122 C             1 RES     \\n      15 C           -7.4383     0.3286    -0.0000 C             1 RES     \\n      16 S           -9.2268     0.3982    -0.0000 S             1 RES     \\n      17 C           -6.7374     0.3017     1.2122 C             1 RES     \\n      18 C           -5.3396     0.2473     1.2113 C             1 RES     \\n      19 H           -4.7985     0.2263    -2.1484 H             1 RES     \\n      20 H           -7.2728     0.3223    -2.1529 H             1 RES     \\n      21 H           -7.2728     0.3223     2.1529 H             1 RES     \\n      22 H           -4.7985     0.2263     2.1484 H             1 RES     \\n      23 C          -10.9868     0.3982    -0.0000 C             1 RES     \\n      24 C          -11.6856     0.4254    -1.2113 C             1 RES     \\n      25 C          -13.0834     0.4798    -1.2122 C             1 RES     \\n      26 C          -13.7843     0.5067    -0.0000 C             1 RES     \\n      27 S          -15.5728     0.5763    -0.0000 S             1 RES     \\n      28 C          -13.0834     0.4798     1.2122 C             1 RES     \\n      29 C          -11.6856     0.4254     1.2113 C             1 RES     \\n      30 H          -11.1444     0.4044    -2.1484 H             1 RES     \\n      31 H          -13.6187     0.5004    -2.1529 H             1 RES     \\n      32 H          -13.6187     0.5004     2.1529 H             1 RES     \\n      33 H          -11.1444     0.4044     2.1484 H             1 RES     \\n      34 C          -17.3328     0.5763    -0.0000 C             1 RES     \\n      35 C          -18.0315     0.6035    -1.2113 C             1 RES     \\n      36 C          -19.4293     0.6579    -1.2122 C             1 RES     \\n      37 C          -20.1302     0.6848    -0.0000 C             1 RES     \\n      38 S          -21.9187     0.7544    -0.0000 S             1 RES     \\n      39 C          -19.4293     0.6579     1.2122 C             1 RES     \\n      40 C          -18.0315     0.6035     1.2113 C             1 RES     \\n      41 H          -17.4904     0.5825    -2.1484 H             1 RES     \\n      42 H          -19.9647     0.6784    -2.1529 H             1 RES     \\n      43 H          -19.9647     0.6785     2.1529 H             1 RES     \\n      44 H          -17.4904     0.5825     2.1484 H             1 RES     \\n      45 C          -23.6787     0.7544    -0.0000 C             1 RES     \\n      46 C          -24.3775     0.7816    -1.2113 C             1 RES     \\n      47 C          -25.7753     0.8360    -1.2122 C             1 RES     \\n      48 C          -26.4762     0.8629    -0.0000 C             1 RES     \\n      49 S          -28.2647     0.9325    -0.0000 S             1 RES     \\n      50 C          -25.7753     0.8360     1.2122 C             1 RES     \\n      51 C          -24.3775     0.7816     1.2113 C             1 RES     \\n      52 H          -23.8363     0.7606    -2.1484 H             1 RES     \\n      53 H          -26.3106     0.8565    -2.1529 H             1 RES     \\n      54 H          -26.3106     0.8565     2.1529 H             1 RES     \\n      55 H          -23.8363     0.7606     2.1484 H             1 RES     \\n      56 H            2.7991     0.0421     0.0000 H             1 RES     \\n      57 H          -29.3587     0.9325    -0.0000 H             1 RES     \\n@<TRIPOS>BOND\\n       1        2        1 1\\n       2        7        1 1\\n       3       56        1 1\\n       4        3        2 1\\n       5        8        2 1\\n       6        4        3 1\\n       7        9        3 1\\n       8        5        4 1\\n       9        6        4 1\\n      10       12        5 1\\n      11        7        6 1\\n      12       10        6 1\\n      13       11        7 1\\n      14       13       12 1\\n      15       18       12 1\\n      16       14       13 1\\n      17       19       13 1\\n      18       15       14 1\\n      19       20       14 1\\n      20       16       15 1\\n      21       17       15 1\\n      22       23       16 1\\n      23       18       17 1\\n      24       21       17 1\\n      25       22       18 1\\n      26       24       23 1\\n      27       29       23 1\\n      28       25       24 1\\n      29       30       24 1\\n      30       26       25 1\\n      31       31       25 1\\n      32       27       26 1\\n      33       28       26 1\\n      34       34       27 1\\n      35       29       28 1\\n      36       32       28 1\\n      37       33       29 1\\n      38       35       34 1\\n      39       40       34 1\\n      40       36       35 1\\n      41       41       35 1\\n      42       37       36 1\\n      43       42       36 1\\n      44       38       37 1\\n      45       39       37 1\\n      46       45       38 1\\n      47       40       39 1\\n      48       43       39 1\\n      49       44       40 1\\n      50       46       45 1\\n      51       51       45 1\\n      52       47       46 1\\n      53       52       46 1\\n      54       48       47 1\\n      55       53       47 1\\n      56       49       48 1\\n      57       50       48 1\\n      58       57       49 1\\n      59       51       50 1\\n      60       54       50 1\\n      61       55       51 1\\n@<TRIPOS>SUBSTRUCTURE\\n       1 RES             1 RESIDUE    0 **** ROOT      0\\n\",\"mol2\");\n\tviewer_167478883061999.setStyle({\"stick\": {\"radius\": 0.2, \"color\": \"grey\"}, \"sphere\": {\"scale\": 0.3, \"colorscheme\": {}}});\n\tviewer_167478883061999.zoomTo();\nviewer_167478883061999.render();\n});\n</script>",
      "text/html": [
       "<div id=\"3dmolviewer_167478883061999\"  style=\"position: relative; width: 640px; height: 480px\">\n",
       "        <p id=\"3dmolwarning_167478883061999\" style=\"background-color:#ffcccc;color:black\">You appear to be running in JupyterLab (or JavaScript failed to load for some other reason).  You need to install the 3dmol extension: <br>\n",
       "        <tt>jupyter labextension install jupyterlab_3dmol</tt></p>\n",
       "        </div>\n",
       "<script>\n",
       "\n",
       "var loadScriptAsync = function(uri){\n",
       "  return new Promise((resolve, reject) => {\n",
       "    //this is to ignore the existence of requirejs amd\n",
       "    var savedexports, savedmodule;\n",
       "    if (typeof exports !== 'undefined') savedexports = exports;\n",
       "    else exports = {}\n",
       "    if (typeof module !== 'undefined') savedmodule = module;\n",
       "    else module = {}\n",
       "\n",
       "    var tag = document.createElement('script');\n",
       "    tag.src = uri;\n",
       "    tag.async = true;\n",
       "    tag.onload = () => {\n",
       "        exports = savedexports;\n",
       "        module = savedmodule;\n",
       "        resolve();\n",
       "    };\n",
       "  var firstScriptTag = document.getElementsByTagName('script')[0];\n",
       "  firstScriptTag.parentNode.insertBefore(tag, firstScriptTag);\n",
       "});\n",
       "};\n",
       "\n",
       "if(typeof $3Dmolpromise === 'undefined') {\n",
       "$3Dmolpromise = null;\n",
       "  $3Dmolpromise = loadScriptAsync('https://cdn.jsdelivr.net/npm/3dmol@latest/build/3Dmol-min.min.js');\n",
       "}\n",
       "\n",
       "var viewer_167478883061999 = null;\n",
       "var warn = document.getElementById(\"3dmolwarning_167478883061999\");\n",
       "if(warn) {\n",
       "    warn.parentNode.removeChild(warn);\n",
       "}\n",
       "$3Dmolpromise.then(function() {\n",
       "viewer_167478883061999 = $3Dmol.createViewer(document.getElementById(\"3dmolviewer_167478883061999\"),{backgroundColor:\"white\"});\n",
       "viewer_167478883061999.zoomTo();\n",
       "\tviewer_167478883061999.addModel(\"@<TRIPOS>MOLECULE\\nRES\\n57 61 1 0 1\\nSMALL\\nNO_CHARGES\\n@<TRIPOS>CRYSIN\\n   37.1577     5.8905     9.3059    90.0000    90.0000    90.0000  1  1\\n@<TRIPOS>ATOM\\n       1 C            1.7051     0.0421     0.0000 C             1 RES     \\n       2 C            1.0063     0.0692    -1.2113 C             1 RES     \\n       3 C           -0.3915     0.1236    -1.2122 C             1 RES     \\n       4 C           -1.0924     0.1505     0.0000 C             1 RES     \\n       5 S           -2.8809     0.2202     0.0000 S             1 RES     \\n       6 C           -0.3915     0.1236     1.2122 C             1 RES     \\n       7 C            1.0063     0.0693     1.2113 C             1 RES     \\n       8 H            1.5475     0.0482    -2.1484 H             1 RES     \\n       9 H           -0.9269     0.1442    -2.1529 H             1 RES     \\n      10 H           -0.9269     0.1442     2.1529 H             1 RES     \\n      11 H            1.5475     0.0482     2.1484 H             1 RES     \\n      12 C           -4.6409     0.2202    -0.0000 C             1 RES     \\n      13 C           -5.3396     0.2473    -1.2113 C             1 RES     \\n      14 C           -6.7374     0.3017    -1.2122 C             1 RES     \\n      15 C           -7.4383     0.3286    -0.0000 C             1 RES     \\n      16 S           -9.2268     0.3982    -0.0000 S             1 RES     \\n      17 C           -6.7374     0.3017     1.2122 C             1 RES     \\n      18 C           -5.3396     0.2473     1.2113 C             1 RES     \\n      19 H           -4.7985     0.2263    -2.1484 H             1 RES     \\n      20 H           -7.2728     0.3223    -2.1529 H             1 RES     \\n      21 H           -7.2728     0.3223     2.1529 H             1 RES     \\n      22 H           -4.7985     0.2263     2.1484 H             1 RES     \\n      23 C          -10.9868     0.3982    -0.0000 C             1 RES     \\n      24 C          -11.6856     0.4254    -1.2113 C             1 RES     \\n      25 C          -13.0834     0.4798    -1.2122 C             1 RES     \\n      26 C          -13.7843     0.5067    -0.0000 C             1 RES     \\n      27 S          -15.5728     0.5763    -0.0000 S             1 RES     \\n      28 C          -13.0834     0.4798     1.2122 C             1 RES     \\n      29 C          -11.6856     0.4254     1.2113 C             1 RES     \\n      30 H          -11.1444     0.4044    -2.1484 H             1 RES     \\n      31 H          -13.6187     0.5004    -2.1529 H             1 RES     \\n      32 H          -13.6187     0.5004     2.1529 H             1 RES     \\n      33 H          -11.1444     0.4044     2.1484 H             1 RES     \\n      34 C          -17.3328     0.5763    -0.0000 C             1 RES     \\n      35 C          -18.0315     0.6035    -1.2113 C             1 RES     \\n      36 C          -19.4293     0.6579    -1.2122 C             1 RES     \\n      37 C          -20.1302     0.6848    -0.0000 C             1 RES     \\n      38 S          -21.9187     0.7544    -0.0000 S             1 RES     \\n      39 C          -19.4293     0.6579     1.2122 C             1 RES     \\n      40 C          -18.0315     0.6035     1.2113 C             1 RES     \\n      41 H          -17.4904     0.5825    -2.1484 H             1 RES     \\n      42 H          -19.9647     0.6784    -2.1529 H             1 RES     \\n      43 H          -19.9647     0.6785     2.1529 H             1 RES     \\n      44 H          -17.4904     0.5825     2.1484 H             1 RES     \\n      45 C          -23.6787     0.7544    -0.0000 C             1 RES     \\n      46 C          -24.3775     0.7816    -1.2113 C             1 RES     \\n      47 C          -25.7753     0.8360    -1.2122 C             1 RES     \\n      48 C          -26.4762     0.8629    -0.0000 C             1 RES     \\n      49 S          -28.2647     0.9325    -0.0000 S             1 RES     \\n      50 C          -25.7753     0.8360     1.2122 C             1 RES     \\n      51 C          -24.3775     0.7816     1.2113 C             1 RES     \\n      52 H          -23.8363     0.7606    -2.1484 H             1 RES     \\n      53 H          -26.3106     0.8565    -2.1529 H             1 RES     \\n      54 H          -26.3106     0.8565     2.1529 H             1 RES     \\n      55 H          -23.8363     0.7606     2.1484 H             1 RES     \\n      56 H            2.7991     0.0421     0.0000 H             1 RES     \\n      57 H          -29.3587     0.9325    -0.0000 H             1 RES     \\n@<TRIPOS>BOND\\n       1        2        1 1\\n       2        7        1 1\\n       3       56        1 1\\n       4        3        2 1\\n       5        8        2 1\\n       6        4        3 1\\n       7        9        3 1\\n       8        5        4 1\\n       9        6        4 1\\n      10       12        5 1\\n      11        7        6 1\\n      12       10        6 1\\n      13       11        7 1\\n      14       13       12 1\\n      15       18       12 1\\n      16       14       13 1\\n      17       19       13 1\\n      18       15       14 1\\n      19       20       14 1\\n      20       16       15 1\\n      21       17       15 1\\n      22       23       16 1\\n      23       18       17 1\\n      24       21       17 1\\n      25       22       18 1\\n      26       24       23 1\\n      27       29       23 1\\n      28       25       24 1\\n      29       30       24 1\\n      30       26       25 1\\n      31       31       25 1\\n      32       27       26 1\\n      33       28       26 1\\n      34       34       27 1\\n      35       29       28 1\\n      36       32       28 1\\n      37       33       29 1\\n      38       35       34 1\\n      39       40       34 1\\n      40       36       35 1\\n      41       41       35 1\\n      42       37       36 1\\n      43       42       36 1\\n      44       38       37 1\\n      45       39       37 1\\n      46       45       38 1\\n      47       40       39 1\\n      48       43       39 1\\n      49       44       40 1\\n      50       46       45 1\\n      51       51       45 1\\n      52       47       46 1\\n      53       52       46 1\\n      54       48       47 1\\n      55       53       47 1\\n      56       49       48 1\\n      57       50       48 1\\n      58       57       49 1\\n      59       51       50 1\\n      60       54       50 1\\n      61       55       51 1\\n@<TRIPOS>SUBSTRUCTURE\\n       1 RES             1 RESIDUE    0 **** ROOT      0\\n\",\"mol2\");\n",
       "\tviewer_167478883061999.setStyle({\"stick\": {\"radius\": 0.2, \"color\": \"grey\"}, \"sphere\": {\"scale\": 0.3, \"colorscheme\": {}}});\n",
       "\tviewer_167478883061999.zoomTo();\n",
       "viewer_167478883061999.render();\n",
       "});\n",
       "</script>"
      ]
     },
     "metadata": {},
     "output_type": "display_data"
    }
   ],
   "source": [
    "# Use the PPS template to create a 5mer PPS molecule\n",
    "pps_chain = PPS(length=5)\n",
    "pps_chain.visualize().show()"
   ]
  },
  {
   "cell_type": "code",
   "execution_count": 4,
   "id": "357df16a",
   "metadata": {},
   "outputs": [
    {
     "data": {
      "application/3dmoljs_load.v0": "<div id=\"3dmolviewer_1674788587747354\"  style=\"position: relative; width: 640px; height: 480px\">\n        <p id=\"3dmolwarning_1674788587747354\" style=\"background-color:#ffcccc;color:black\">You appear to be running in JupyterLab (or JavaScript failed to load for some other reason).  You need to install the 3dmol extension: <br>\n        <tt>jupyter labextension install jupyterlab_3dmol</tt></p>\n        </div>\n<script>\n\nvar loadScriptAsync = function(uri){\n  return new Promise((resolve, reject) => {\n    //this is to ignore the existence of requirejs amd\n    var savedexports, savedmodule;\n    if (typeof exports !== 'undefined') savedexports = exports;\n    else exports = {}\n    if (typeof module !== 'undefined') savedmodule = module;\n    else module = {}\n\n    var tag = document.createElement('script');\n    tag.src = uri;\n    tag.async = true;\n    tag.onload = () => {\n        exports = savedexports;\n        module = savedmodule;\n        resolve();\n    };\n  var firstScriptTag = document.getElementsByTagName('script')[0];\n  firstScriptTag.parentNode.insertBefore(tag, firstScriptTag);\n});\n};\n\nif(typeof $3Dmolpromise === 'undefined') {\n$3Dmolpromise = null;\n  $3Dmolpromise = loadScriptAsync('https://cdn.jsdelivr.net/npm/3dmol@latest/build/3Dmol-min.min.js');\n}\n\nvar viewer_1674788587747354 = null;\nvar warn = document.getElementById(\"3dmolwarning_1674788587747354\");\nif(warn) {\n    warn.parentNode.removeChild(warn);\n}\n$3Dmolpromise.then(function() {\nviewer_1674788587747354 = $3Dmol.createViewer(document.getElementById(\"3dmolviewer_1674788587747354\"),{backgroundColor:\"white\"});\nviewer_1674788587747354.zoomTo();\n\tviewer_1674788587747354.addModel(\"@<TRIPOS>MOLECULE\\nRES\\n50 49 1 0 1\\nSMALL\\nNO_CHARGES\\n@<TRIPOS>CRYSIN\\n   21.4470    14.6208    12.5476    90.0000    90.0000    90.0000  1  1\\n@<TRIPOS>ATOM\\n       1 C           -0.7591     0.0183     0.0212 C             1 RES     \\n       2 C            0.7591    -0.0183    -0.0212 C             1 RES     \\n       3 H           -1.0995     0.9536     0.5134 H             1 RES     \\n       4 H           -1.1654    -0.0180    -1.0116 H             1 RES     \\n       5 H            1.0995    -0.9536    -0.5134 H             1 RES     \\n       6 H            1.1654     0.0180     1.0116 H             1 RES     \\n       7 C            1.2575     1.1202    -0.7681 C             1 RES     \\n       8 C            2.7757     1.0836    -0.8104 C             1 RES     \\n       9 H            0.9171     2.0555    -0.2758 H             1 RES     \\n      10 H            0.8512     1.0840    -1.8008 H             1 RES     \\n      11 H            3.1161     0.1484    -1.3027 H             1 RES     \\n      12 H            3.1820     1.1199     0.2223 H             1 RES     \\n      13 C            3.2741     2.2222    -1.5573 C             1 RES     \\n      14 C            4.7923     2.1856    -1.5996 C             1 RES     \\n      15 H            2.9337     3.1575    -1.0650 H             1 RES     \\n      16 H            2.8678     2.1859    -2.5900 H             1 RES     \\n      17 H            5.1327     1.2503    -2.0919 H             1 RES     \\n      18 H            5.1986     2.2218    -0.5669 H             1 RES     \\n      19 C            5.2907     3.3241    -2.3465 C             1 RES     \\n      20 C            6.8089     3.2875    -2.3888 C             1 RES     \\n      21 H            4.9503     4.2594    -1.8542 H             1 RES     \\n      22 H            4.8844     3.2879    -3.3792 H             1 RES     \\n      23 H            7.1493     2.3522    -2.8811 H             1 RES     \\n      24 H            7.2152     3.3238    -1.3561 H             1 RES     \\n      25 C            7.3073     4.4261    -3.1357 C             1 RES     \\n      26 C            8.8255     4.3895    -3.1781 C             1 RES     \\n      27 H            6.9669     5.3613    -2.6434 H             1 RES     \\n      28 H            6.9010     4.3898    -4.1684 H             1 RES     \\n      29 H            9.1659     3.4542    -3.6703 H             1 RES     \\n      30 H            9.2318     4.4257    -2.1453 H             1 RES     \\n      31 C            9.3239     5.5280    -3.9249 C             1 RES     \\n      32 C           10.8421     5.4914    -3.9672 C             1 RES     \\n      33 H            8.9835     6.4633    -3.4326 H             1 RES     \\n      34 H            8.9176     5.4918    -4.9576 H             1 RES     \\n      35 H           11.1825     4.5561    -4.4595 H             1 RES     \\n      36 H           11.2484     5.5277    -2.9345 H             1 RES     \\n      37 C           11.3405     6.6300    -4.7141 C             1 RES     \\n      38 C           12.8587     6.5934    -4.7564 C             1 RES     \\n      39 H           11.0001     7.5652    -4.2218 H             1 RES     \\n      40 H           10.9342     6.5937    -5.7468 H             1 RES     \\n      41 H           13.1991     5.6581    -5.2487 H             1 RES     \\n      42 H           13.2650     6.6296    -3.7237 H             1 RES     \\n      43 C           13.3571     7.7319    -5.5033 C             1 RES     \\n      44 C           14.8753     7.6954    -5.5456 C             1 RES     \\n      45 H           13.0168     8.6672    -5.0110 H             1 RES     \\n      46 H           12.9508     7.6957    -6.5360 H             1 RES     \\n      47 H           15.2157     6.7601    -6.0379 H             1 RES     \\n      48 H           15.2816     7.7316    -4.5129 H             1 RES     \\n      49 H           -1.1351    -0.8407     0.5847 H             1 RES     \\n      50 H           15.2514     8.5544    -6.1091 H             1 RES     \\n@<TRIPOS>BOND\\n       1        2        1 1\\n       2        3        1 1\\n       3        4        1 1\\n       4       49        1 1\\n       5        5        2 1\\n       6        6        2 1\\n       7        7        2 1\\n       8        8        7 1\\n       9        9        7 1\\n      10       10        7 1\\n      11       11        8 1\\n      12       12        8 1\\n      13       13        8 1\\n      14       14       13 1\\n      15       15       13 1\\n      16       16       13 1\\n      17       17       14 1\\n      18       18       14 1\\n      19       19       14 1\\n      20       20       19 1\\n      21       21       19 1\\n      22       22       19 1\\n      23       23       20 1\\n      24       24       20 1\\n      25       25       20 1\\n      26       26       25 1\\n      27       27       25 1\\n      28       28       25 1\\n      29       29       26 1\\n      30       30       26 1\\n      31       31       26 1\\n      32       32       31 1\\n      33       33       31 1\\n      34       34       31 1\\n      35       35       32 1\\n      36       36       32 1\\n      37       37       32 1\\n      38       38       37 1\\n      39       39       37 1\\n      40       40       37 1\\n      41       41       38 1\\n      42       42       38 1\\n      43       43       38 1\\n      44       44       43 1\\n      45       45       43 1\\n      46       46       43 1\\n      47       47       44 1\\n      48       48       44 1\\n      49       50       44 1\\n@<TRIPOS>SUBSTRUCTURE\\n       1 RES             1 RESIDUE    0 **** ROOT      0\\n\",\"mol2\");\n\tviewer_1674788587747354.setStyle({\"stick\": {\"radius\": 0.2, \"color\": \"grey\"}, \"sphere\": {\"scale\": 0.3, \"colorscheme\": {}}});\n\tviewer_1674788587747354.zoomTo();\nviewer_1674788587747354.render();\n});\n</script>",
      "text/html": [
       "<div id=\"3dmolviewer_1674788587747354\"  style=\"position: relative; width: 640px; height: 480px\">\n",
       "        <p id=\"3dmolwarning_1674788587747354\" style=\"background-color:#ffcccc;color:black\">You appear to be running in JupyterLab (or JavaScript failed to load for some other reason).  You need to install the 3dmol extension: <br>\n",
       "        <tt>jupyter labextension install jupyterlab_3dmol</tt></p>\n",
       "        </div>\n",
       "<script>\n",
       "\n",
       "var loadScriptAsync = function(uri){\n",
       "  return new Promise((resolve, reject) => {\n",
       "    //this is to ignore the existence of requirejs amd\n",
       "    var savedexports, savedmodule;\n",
       "    if (typeof exports !== 'undefined') savedexports = exports;\n",
       "    else exports = {}\n",
       "    if (typeof module !== 'undefined') savedmodule = module;\n",
       "    else module = {}\n",
       "\n",
       "    var tag = document.createElement('script');\n",
       "    tag.src = uri;\n",
       "    tag.async = true;\n",
       "    tag.onload = () => {\n",
       "        exports = savedexports;\n",
       "        module = savedmodule;\n",
       "        resolve();\n",
       "    };\n",
       "  var firstScriptTag = document.getElementsByTagName('script')[0];\n",
       "  firstScriptTag.parentNode.insertBefore(tag, firstScriptTag);\n",
       "});\n",
       "};\n",
       "\n",
       "if(typeof $3Dmolpromise === 'undefined') {\n",
       "$3Dmolpromise = null;\n",
       "  $3Dmolpromise = loadScriptAsync('https://cdn.jsdelivr.net/npm/3dmol@latest/build/3Dmol-min.min.js');\n",
       "}\n",
       "\n",
       "var viewer_1674788587747354 = null;\n",
       "var warn = document.getElementById(\"3dmolwarning_1674788587747354\");\n",
       "if(warn) {\n",
       "    warn.parentNode.removeChild(warn);\n",
       "}\n",
       "$3Dmolpromise.then(function() {\n",
       "viewer_1674788587747354 = $3Dmol.createViewer(document.getElementById(\"3dmolviewer_1674788587747354\"),{backgroundColor:\"white\"});\n",
       "viewer_1674788587747354.zoomTo();\n",
       "\tviewer_1674788587747354.addModel(\"@<TRIPOS>MOLECULE\\nRES\\n50 49 1 0 1\\nSMALL\\nNO_CHARGES\\n@<TRIPOS>CRYSIN\\n   21.4470    14.6208    12.5476    90.0000    90.0000    90.0000  1  1\\n@<TRIPOS>ATOM\\n       1 C           -0.7591     0.0183     0.0212 C             1 RES     \\n       2 C            0.7591    -0.0183    -0.0212 C             1 RES     \\n       3 H           -1.0995     0.9536     0.5134 H             1 RES     \\n       4 H           -1.1654    -0.0180    -1.0116 H             1 RES     \\n       5 H            1.0995    -0.9536    -0.5134 H             1 RES     \\n       6 H            1.1654     0.0180     1.0116 H             1 RES     \\n       7 C            1.2575     1.1202    -0.7681 C             1 RES     \\n       8 C            2.7757     1.0836    -0.8104 C             1 RES     \\n       9 H            0.9171     2.0555    -0.2758 H             1 RES     \\n      10 H            0.8512     1.0840    -1.8008 H             1 RES     \\n      11 H            3.1161     0.1484    -1.3027 H             1 RES     \\n      12 H            3.1820     1.1199     0.2223 H             1 RES     \\n      13 C            3.2741     2.2222    -1.5573 C             1 RES     \\n      14 C            4.7923     2.1856    -1.5996 C             1 RES     \\n      15 H            2.9337     3.1575    -1.0650 H             1 RES     \\n      16 H            2.8678     2.1859    -2.5900 H             1 RES     \\n      17 H            5.1327     1.2503    -2.0919 H             1 RES     \\n      18 H            5.1986     2.2218    -0.5669 H             1 RES     \\n      19 C            5.2907     3.3241    -2.3465 C             1 RES     \\n      20 C            6.8089     3.2875    -2.3888 C             1 RES     \\n      21 H            4.9503     4.2594    -1.8542 H             1 RES     \\n      22 H            4.8844     3.2879    -3.3792 H             1 RES     \\n      23 H            7.1493     2.3522    -2.8811 H             1 RES     \\n      24 H            7.2152     3.3238    -1.3561 H             1 RES     \\n      25 C            7.3073     4.4261    -3.1357 C             1 RES     \\n      26 C            8.8255     4.3895    -3.1781 C             1 RES     \\n      27 H            6.9669     5.3613    -2.6434 H             1 RES     \\n      28 H            6.9010     4.3898    -4.1684 H             1 RES     \\n      29 H            9.1659     3.4542    -3.6703 H             1 RES     \\n      30 H            9.2318     4.4257    -2.1453 H             1 RES     \\n      31 C            9.3239     5.5280    -3.9249 C             1 RES     \\n      32 C           10.8421     5.4914    -3.9672 C             1 RES     \\n      33 H            8.9835     6.4633    -3.4326 H             1 RES     \\n      34 H            8.9176     5.4918    -4.9576 H             1 RES     \\n      35 H           11.1825     4.5561    -4.4595 H             1 RES     \\n      36 H           11.2484     5.5277    -2.9345 H             1 RES     \\n      37 C           11.3405     6.6300    -4.7141 C             1 RES     \\n      38 C           12.8587     6.5934    -4.7564 C             1 RES     \\n      39 H           11.0001     7.5652    -4.2218 H             1 RES     \\n      40 H           10.9342     6.5937    -5.7468 H             1 RES     \\n      41 H           13.1991     5.6581    -5.2487 H             1 RES     \\n      42 H           13.2650     6.6296    -3.7237 H             1 RES     \\n      43 C           13.3571     7.7319    -5.5033 C             1 RES     \\n      44 C           14.8753     7.6954    -5.5456 C             1 RES     \\n      45 H           13.0168     8.6672    -5.0110 H             1 RES     \\n      46 H           12.9508     7.6957    -6.5360 H             1 RES     \\n      47 H           15.2157     6.7601    -6.0379 H             1 RES     \\n      48 H           15.2816     7.7316    -4.5129 H             1 RES     \\n      49 H           -1.1351    -0.8407     0.5847 H             1 RES     \\n      50 H           15.2514     8.5544    -6.1091 H             1 RES     \\n@<TRIPOS>BOND\\n       1        2        1 1\\n       2        3        1 1\\n       3        4        1 1\\n       4       49        1 1\\n       5        5        2 1\\n       6        6        2 1\\n       7        7        2 1\\n       8        8        7 1\\n       9        9        7 1\\n      10       10        7 1\\n      11       11        8 1\\n      12       12        8 1\\n      13       13        8 1\\n      14       14       13 1\\n      15       15       13 1\\n      16       16       13 1\\n      17       17       14 1\\n      18       18       14 1\\n      19       19       14 1\\n      20       20       19 1\\n      21       21       19 1\\n      22       22       19 1\\n      23       23       20 1\\n      24       24       20 1\\n      25       25       20 1\\n      26       26       25 1\\n      27       27       25 1\\n      28       28       25 1\\n      29       29       26 1\\n      30       30       26 1\\n      31       31       26 1\\n      32       32       31 1\\n      33       33       31 1\\n      34       34       31 1\\n      35       35       32 1\\n      36       36       32 1\\n      37       37       32 1\\n      38       38       37 1\\n      39       39       37 1\\n      40       40       37 1\\n      41       41       38 1\\n      42       42       38 1\\n      43       43       38 1\\n      44       44       43 1\\n      45       45       43 1\\n      46       46       43 1\\n      47       47       44 1\\n      48       48       44 1\\n      49       50       44 1\\n@<TRIPOS>SUBSTRUCTURE\\n       1 RES             1 RESIDUE    0 **** ROOT      0\\n\",\"mol2\");\n",
       "\tviewer_1674788587747354.setStyle({\"stick\": {\"radius\": 0.2, \"color\": \"grey\"}, \"sphere\": {\"scale\": 0.3, \"colorscheme\": {}}});\n",
       "\tviewer_1674788587747354.zoomTo();\n",
       "viewer_1674788587747354.render();\n",
       "});\n",
       "</script>"
      ]
     },
     "metadata": {},
     "output_type": "display_data"
    },
    {
     "data": {
      "text/plain": [
       "<py3Dmol.view at 0x17f259dc0>"
      ]
     },
     "execution_count": 4,
     "metadata": {},
     "output_type": "execute_result"
    }
   ],
   "source": [
    "# We can do the same with a Poly-ethylene chain\n",
    "pe_chain = PolyEthylene(length=8)\n",
    "pe_chain.visualize()"
   ]
  },
  {
   "cell_type": "markdown",
   "id": "4ebb97cf",
   "metadata": {},
   "source": [
    "# Building up a system of polymers:\n",
    "Pass in an instance of a polymer template, and a list of number of molecules and a list of molecule lengths"
   ]
  },
  {
   "cell_type": "code",
   "execution_count": 18,
   "id": "cd931723",
   "metadata": {},
   "outputs": [],
   "source": [
    "sys = System(molecule=PolyEthylene, n_mols=[10], chain_lengths=[10], density=1.3)"
   ]
  },
  {
   "cell_type": "code",
   "execution_count": 19,
   "id": "0be4f4d8",
   "metadata": {},
   "outputs": [],
   "source": [
    "# Call one of the configuration building functions; right now, we only have pack()\n",
    "sys.pack()"
   ]
  },
  {
   "cell_type": "code",
   "execution_count": 21,
   "id": "5152e820",
   "metadata": {},
   "outputs": [],
   "source": [
    "# Apply a foyer forcefield\n",
    "opls = foyer.Forcefield(name=\"oplsaa\")\n",
    "sys.apply_forcefield(forcefield=opls)"
   ]
  },
  {
   "cell_type": "code",
   "execution_count": 22,
   "id": "f69c32a3",
   "metadata": {},
   "outputs": [
    {
     "name": "stdout",
     "output_type": "stream",
     "text": [
      "<Compound 620 particles, 610 bonds, System box: Box: Lx=76.696126, Ly=76.696126, Lz=76.696126, xy=0.000000, xz=0.000000, yz=0.000000, , id: 6452434976>\n",
      "\n",
      "<Structure 620 atoms; 1 residues; 610 bonds; PBC (orthogonal); parametrized>\n"
     ]
    }
   ],
   "source": [
    "# We now have 2 different versions of our system. An mBuild Compound and a Parmed Structure\n",
    "print(sys.system)\n",
    "print()\n",
    "print(sys.typed_system)"
   ]
  },
  {
   "cell_type": "markdown",
   "id": "78447931",
   "metadata": {},
   "source": [
    "# Starting up a simulation of our polymer system\n",
    "- Use the Simulation class to quickly get a simulation going.  \n",
    "- Pass in a `System.typed_system` which has all the forcefield information\n",
    "- Most of the simulation properties of interest are easily accessble, and changeable via methods in the Simulation class\n",
    "- The integrator and integrator method is determined by which run funciton you call\n",
    "```\n",
    "run_NVT\n",
    "run_NPT\n",
    "run_NVE\n",
    "run_langevin\n",
    "```"
   ]
  },
  {
   "cell_type": "code",
   "execution_count": 10,
   "id": "61ff6332",
   "metadata": {},
   "outputs": [
    {
     "name": "stdout",
     "output_type": "stream",
     "text": [
      "Processing LJ and QQ\n",
      "Processing 1-4 interactions, adjusting neighborlist exclusions\n",
      "Processing harmonic bonds\n",
      "Processing harmonic angles\n",
      "Processing RB torsions\n"
     ]
    }
   ],
   "source": [
    "sim = Simulation(system=sys.typed_system)"
   ]
  },
  {
   "cell_type": "code",
   "execution_count": 11,
   "id": "f4ee3145",
   "metadata": {},
   "outputs": [
    {
     "name": "stdout",
     "output_type": "stream",
     "text": [
      "<hoomd.md.nlist.Cell object at 0x180f03fa0>\n",
      "\n",
      "[<hoomd.md.pair.pair.LJ object at 0x180ef5640>, <hoomd.md.pair.pair.Ewald object at 0x180ef5760>, <hoomd.md.long_range.pppm.Coulomb object at 0x180f1f1c0>, <hoomd.md.special_pair.LJ object at 0x180ef5550>, <hoomd.md.special_pair.Coulomb object at 0x180f1fa60>, <hoomd.md.bond.Harmonic object at 0x180f1fe20>, <hoomd.md.angle.Harmonic object at 0x180f244f0>, <hoomd.md.dihedral.OPLS object at 0x1044edc70>]\n",
      "\n",
      "0.0003\n"
     ]
    }
   ],
   "source": [
    "print(sim.nlist)\n",
    "print()\n",
    "print(sim.forcefield)\n",
    "print()\n",
    "print(sim.dt)"
   ]
  },
  {
   "cell_type": "code",
   "execution_count": 12,
   "id": "491908b0",
   "metadata": {},
   "outputs": [
    {
     "name": "stdout",
     "output_type": "stream",
     "text": [
      "notice(2): charge.pppm: RMS error: 0.0982533\n"
     ]
    }
   ],
   "source": [
    "# The integrator and integrator method are not set up until a run function is called for the first time:\n",
    "sim.run_NVT(n_steps=0, kT=1, tau_kt=0.1)"
   ]
  },
  {
   "cell_type": "code",
   "execution_count": 13,
   "id": "a1a23a8c",
   "metadata": {},
   "outputs": [
    {
     "name": "stdout",
     "output_type": "stream",
     "text": [
      "<hoomd.md.integrate.Integrator object at 0x180f31970>\n"
     ]
    }
   ],
   "source": [
    "print(sim.integrator)"
   ]
  },
  {
   "cell_type": "code",
   "execution_count": 14,
   "id": "7c7230b2",
   "metadata": {},
   "outputs": [
    {
     "name": "stdout",
     "output_type": "stream",
     "text": [
      "<hoomd.md.methods.methods.NVT object at 0x180f1f280>\n"
     ]
    }
   ],
   "source": [
    "print(sim.method)"
   ]
  },
  {
   "cell_type": "code",
   "execution_count": 15,
   "id": "45b2f544",
   "metadata": {},
   "outputs": [
    {
     "name": "stdout",
     "output_type": "stream",
     "text": [
      "0.0003\n",
      "0.0001\n"
     ]
    }
   ],
   "source": [
    "# Change simulation parameters like dt\n",
    "print(sim.integrator.dt)\n",
    "sim.dt = 0.0001\n",
    "print(sim.integrator.dt)"
   ]
  },
  {
   "cell_type": "code",
   "execution_count": 16,
   "id": "d5c42ead",
   "metadata": {},
   "outputs": [
    {
     "name": "stdout",
     "output_type": "stream",
     "text": [
      "<hoomd.md.methods.methods.NVT object at 0x180f1f280>\n",
      "<hoomd.md.methods.methods.NPT object at 0x180f1f280>\n"
     ]
    }
   ],
   "source": [
    "# Calling a run function again will update the method if needed\n",
    "print(sim.method)\n",
    "sim.run_NPT(n_steps=0, pressure=0.001, kT=1.0, tau_kt=0.01, tau_pressure=0.1)\n",
    "print(sim.method)"
   ]
  },
  {
   "cell_type": "markdown",
   "id": "26dcc8fa",
   "metadata": {},
   "source": [
    "# Combining the run functions to get an equilibrated system\n",
    "- First, call the `run_shrink` function to get the box down to the desired density\n",
    "- Next, run in the NPT ensemble to get an equilibrated volume\n",
    "- Finally, run at NVT to get an equilibrated morphology"
   ]
  },
  {
   "cell_type": "code",
   "execution_count": 23,
   "id": "c1d6f260",
   "metadata": {},
   "outputs": [],
   "source": [
    "# Build up a polyethylene system of 10 10mers, apply an OPLS forcefield\n",
    "sys = System(molecule=PolyEthylene, n_mols=[10], chain_lengths=[10], density=1.3)\n",
    "sys.pack()\n",
    "opls = foyer.Forcefield(name=\"oplsaa\")\n",
    "sys.apply_forcefield(forcefield=opls)"
   ]
  },
  {
   "cell_type": "code",
   "execution_count": 25,
   "id": "6b1c6f88",
   "metadata": {},
   "outputs": [
    {
     "data": {
      "text/plain": [
       "array([1.53392282, 1.53392282, 1.53392282])"
      ]
     },
     "execution_count": 25,
     "metadata": {},
     "output_type": "execute_result"
    }
   ],
   "source": [
    "# We can use the target_box attribute to help with the shrink run\n",
    "# Remember we'll have to convert from nm to angstroms\n",
    "# Remember to account for the reference distance if using auto scaling\n",
    "sys.target_box"
   ]
  },
  {
   "cell_type": "code",
   "execution_count": 26,
   "id": "e31ca141",
   "metadata": {},
   "outputs": [
    {
     "name": "stdout",
     "output_type": "stream",
     "text": [
      "Processing LJ and QQ\n",
      "Processing 1-4 interactions, adjusting neighborlist exclusions\n",
      "Processing harmonic bonds\n",
      "Processing harmonic angles\n",
      "Processing RB torsions\n"
     ]
    }
   ],
   "source": [
    "sim = Simulation(system=sys.typed_system, auto_scale=True)"
   ]
  },
  {
   "cell_type": "code",
   "execution_count": 28,
   "id": "e8da6af2",
   "metadata": {},
   "outputs": [
    {
     "data": {
      "text/plain": [
       "3.5"
      ]
     },
     "execution_count": 28,
     "metadata": {},
     "output_type": "execute_result"
    }
   ],
   "source": [
    "# This is in angstroms:\n",
    "sim.ref_distance"
   ]
  },
  {
   "cell_type": "code",
   "execution_count": 29,
   "id": "98a50495",
   "metadata": {},
   "outputs": [
    {
     "name": "stdout",
     "output_type": "stream",
     "text": [
      "notice(2): charge.pppm: RMS error: 0.0982533\n"
     ]
    },
    {
     "name": "stderr",
     "output_type": "stream",
     "text": [
      "**ERROR**: Particle with unique tag 588 is no longer in the simulation box.\n",
      "\n",
      "Cartesian coordinates: \n",
      "x: -0.901592 y: -40.148 z: 2.05055\n",
      "Fractional coordinates: \n",
      "f.x: 0.361934 f.y: -5.64811 f.z: 0.814013\n",
      "Local box lo: (-3.26506, -3.26506, -3.26506)\n",
      "          hi: (3.26506, 3.26506, 3.26506)\n"
     ]
    },
    {
     "ename": "RuntimeError",
     "evalue": "Error computing cell list",
     "output_type": "error",
     "traceback": [
      "\u001b[0;31m---------------------------------------------------------------------------\u001b[0m",
      "\u001b[0;31mRuntimeError\u001b[0m                              Traceback (most recent call last)",
      "Cell \u001b[0;32mIn[29], line 1\u001b[0m\n\u001b[0;32m----> 1\u001b[0m \u001b[43msim\u001b[49m\u001b[38;5;241;43m.\u001b[39;49m\u001b[43mrun_shrink\u001b[49m\u001b[43m(\u001b[49m\n\u001b[1;32m      2\u001b[0m \u001b[43m    \u001b[49m\u001b[43mkT\u001b[49m\u001b[38;5;241;43m=\u001b[39;49m\u001b[38;5;241;43m5.0\u001b[39;49m\u001b[43m,\u001b[49m\n\u001b[1;32m      3\u001b[0m \u001b[43m    \u001b[49m\u001b[43mfinal_box_lengths\u001b[49m\u001b[38;5;241;43m=\u001b[39;49m\u001b[43msys\u001b[49m\u001b[38;5;241;43m.\u001b[39;49m\u001b[43mtarget_box\u001b[49m\u001b[43m \u001b[49m\u001b[38;5;241;43m*\u001b[39;49m\u001b[43m \u001b[49m\u001b[38;5;241;43m10\u001b[39;49m\u001b[43m \u001b[49m\u001b[38;5;241;43m/\u001b[39;49m\u001b[43m \u001b[49m\u001b[43msim\u001b[49m\u001b[38;5;241;43m.\u001b[39;49m\u001b[43mref_distance\u001b[49m\u001b[43m,\u001b[49m\n\u001b[1;32m      4\u001b[0m \u001b[43m    \u001b[49m\u001b[43mn_steps\u001b[49m\u001b[38;5;241;43m=\u001b[39;49m\u001b[38;5;241;43m1e4\u001b[39;49m\u001b[43m,\u001b[49m\n\u001b[1;32m      5\u001b[0m \u001b[43m    \u001b[49m\u001b[43mtau_kt\u001b[49m\u001b[43m \u001b[49m\u001b[38;5;241;43m=\u001b[39;49m\u001b[43m \u001b[49m\u001b[38;5;241;43m0.01\u001b[39;49m\u001b[43m,\u001b[49m\n\u001b[1;32m      6\u001b[0m \u001b[43m    \u001b[49m\u001b[43mperiod\u001b[49m\u001b[38;5;241;43m=\u001b[39;49m\u001b[38;5;241;43m100\u001b[39;49m\u001b[43m,\u001b[49m\n\u001b[1;32m      7\u001b[0m \u001b[43m)\u001b[49m\n",
      "File \u001b[0;32m~/cme/projects/advanced-sampling/advanced-sampling-polymers/src/simulation.py:227\u001b[0m, in \u001b[0;36mrun_shrink\u001b[0;34m(self, n_steps, period, kT, tau_kt, final_box_lengths, thermalize_particles)\u001b[0m\n\u001b[1;32m    225\u001b[0m self.set_integrator_method(\n\u001b[1;32m    226\u001b[0m         integrator_method=hoomd.md.methods.NVT,\n\u001b[0;32m--> 227\u001b[0m         method_kwargs={\"tau\": tau_kt, \"filter\": self.all, \"kT\": kT},\n\u001b[1;32m    228\u001b[0m )\n\u001b[1;32m    229\u001b[0m if thermalize_particles:\n",
      "File \u001b[0;32m~/miniconda3/envs/polymers/lib/python3.9/site-packages/hoomd/simulation.py:462\u001b[0m, in \u001b[0;36mSimulation.run\u001b[0;34m(self, steps, write_at_start)\u001b[0m\n\u001b[1;32m    458\u001b[0m \u001b[38;5;28;01mif\u001b[39;00m steps_int \u001b[38;5;241m<\u001b[39m \u001b[38;5;241m0\u001b[39m \u001b[38;5;129;01mor\u001b[39;00m steps_int \u001b[38;5;241m>\u001b[39m TIMESTEP_MAX \u001b[38;5;241m-\u001b[39m \u001b[38;5;241m1\u001b[39m:\n\u001b[1;32m    459\u001b[0m     \u001b[38;5;28;01mraise\u001b[39;00m \u001b[38;5;167;01mValueError\u001b[39;00m(\u001b[38;5;124mf\u001b[39m\u001b[38;5;124m\"\u001b[39m\u001b[38;5;124msteps must be in the range [0, \u001b[39m\u001b[38;5;124m\"\u001b[39m\n\u001b[1;32m    460\u001b[0m                      \u001b[38;5;124mf\u001b[39m\u001b[38;5;124m\"\u001b[39m\u001b[38;5;132;01m{\u001b[39;00mTIMESTEP_MAX\u001b[38;5;241m-\u001b[39m\u001b[38;5;241m1\u001b[39m\u001b[38;5;132;01m}\u001b[39;00m\u001b[38;5;124m]\u001b[39m\u001b[38;5;124m\"\u001b[39m)\n\u001b[0;32m--> 462\u001b[0m \u001b[38;5;28;43mself\u001b[39;49m\u001b[38;5;241;43m.\u001b[39;49m\u001b[43m_cpp_sys\u001b[49m\u001b[38;5;241;43m.\u001b[39;49m\u001b[43mrun\u001b[49m\u001b[43m(\u001b[49m\u001b[43msteps_int\u001b[49m\u001b[43m,\u001b[49m\u001b[43m \u001b[49m\u001b[43mwrite_at_start\u001b[49m\u001b[43m)\u001b[49m\n",
      "\u001b[0;31mRuntimeError\u001b[0m: Error computing cell list"
     ]
    }
   ],
   "source": [
    "sim.run_shrink(\n",
    "    kT=5.0,\n",
    "    final_box_lengths=sys.target_box * 10 / sim.ref_distance,\n",
    "    n_steps=1e4,\n",
    "    tau_kt = 0.01,\n",
    "    period=100,\n",
    ")"
   ]
  },
  {
   "cell_type": "code",
   "execution_count": null,
   "id": "6b7cad7f",
   "metadata": {},
   "outputs": [],
   "source": []
  }
 ],
 "metadata": {
  "kernelspec": {
   "display_name": "Python 3 (ipykernel)",
   "language": "python",
   "name": "python3"
  },
  "language_info": {
   "codemirror_mode": {
    "name": "ipython",
    "version": 3
   },
   "file_extension": ".py",
   "mimetype": "text/x-python",
   "name": "python",
   "nbconvert_exporter": "python",
   "pygments_lexer": "ipython3",
   "version": "3.9.15"
  }
 },
 "nbformat": 4,
 "nbformat_minor": 5
}
