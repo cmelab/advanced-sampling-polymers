{
 "cells": [
  {
   "cell_type": "code",
   "execution_count": null,
   "id": "ebd37904",
   "metadata": {},
   "outputs": [],
   "source": [
    "from molecules import PPS, PolyEthylene\n",
    "from system import System\n",
    "from simulation import Simulation\n",
    "from forcefields import GAFF, OPLS_AA, OPLS_AA_PPS\n",
    "\n",
    "\n",
    "import warnings\n",
    "warnings.filterwarnings(\"ignore\")"
   ]
  },
  {
   "cell_type": "markdown",
   "id": "34bef1ea",
   "metadata": {},
   "source": [
    "# Using the recipes in molecules.py:\n",
    "\n",
    "molecules.py contains classes for different monomers.  \n",
    "These classes can be thought of as recipes or templates\n",
    "to quickly build up polymer chains of any length"
   ]
  },
  {
   "cell_type": "code",
   "execution_count": null,
   "id": "c7a21879",
   "metadata": {},
   "outputs": [],
   "source": [
    "# Use the PPS template to create a 5mer PPS molecule\n",
    "pps_chain = PPS(length=5)\n",
    "pps_chain.visualize().show()"
   ]
  },
  {
   "cell_type": "code",
   "execution_count": null,
   "id": "357df16a",
   "metadata": {},
   "outputs": [],
   "source": [
    "# We can do the same with a Poly-ethylene chain\n",
    "pe_chain = PolyEthylene(length=8)\n",
    "pe_chain.visualize()"
   ]
  },
  {
   "cell_type": "markdown",
   "id": "4ebb97cf",
   "metadata": {},
   "source": [
    "# Building up a system of polymers:\n",
    "Pass in an instance of a polymer template, and a list of number of molecules and a list of molecule lengths"
   ]
  },
  {
   "cell_type": "code",
   "execution_count": null,
   "id": "cd931723",
   "metadata": {},
   "outputs": [],
   "source": [
    "sys = System(molecule=PolyEthylene, n_mols=[10], chain_lengths=[10], density=1.3, united_atom=True)"
   ]
  },
  {
   "cell_type": "code",
   "execution_count": null,
   "id": "0be4f4d8",
   "metadata": {},
   "outputs": [],
   "source": [
    "# Call one of the configuration building functions; right now, we only have pack()\n",
    "sys.pack()"
   ]
  },
  {
   "cell_type": "code",
   "execution_count": null,
   "id": "5152e820",
   "metadata": {},
   "outputs": [],
   "source": [
    "# Apply a foyer forcefield\n",
    "sys.apply_forcefield(forcefield=GAFF())"
   ]
  },
  {
   "cell_type": "code",
   "execution_count": null,
   "id": "f69c32a3",
   "metadata": {},
   "outputs": [],
   "source": [
    "# We now have 2 different versions of our system. An mBuild Compound and a Parmed Structure\n",
    "print(sys.system)\n",
    "print()\n",
    "print(sys.typed_system)"
   ]
  },
  {
   "cell_type": "markdown",
   "id": "78447931",
   "metadata": {},
   "source": [
    "# Starting up a simulation of our polymer system\n",
    "- Use the Simulation class to quickly get a simulation going.  \n",
    "- Pass in a `System.typed_system` which has all the forcefield information\n",
    "- Most of the simulation properties of interest are easily accessble, and changeable via methods in the Simulation class\n",
    "- The integrator and integrator method is determined by which run funciton you call\n",
    "```\n",
    "run_NVT\n",
    "run_NPT\n",
    "run_NVE\n",
    "run_langevin\n",
    "```"
   ]
  },
  {
   "cell_type": "code",
   "execution_count": null,
   "id": "61ff6332",
   "metadata": {},
   "outputs": [],
   "source": [
    "sim = Simulation(system=sys.typed_system)"
   ]
  },
  {
   "cell_type": "code",
   "execution_count": null,
   "id": "f4ee3145",
   "metadata": {},
   "outputs": [],
   "source": [
    "print(sim.nlist)\n",
    "print()\n",
    "print(sim.forcefield)\n",
    "print()\n",
    "print(sim.dt)"
   ]
  },
  {
   "cell_type": "code",
   "execution_count": null,
   "id": "491908b0",
   "metadata": {},
   "outputs": [],
   "source": [
    "# The integrator and integrator method are not set up until a run function is called for the first time:\n",
    "sim.run_NVT(n_steps=0, kT=1, tau_kt=0.1)"
   ]
  },
  {
   "cell_type": "code",
   "execution_count": null,
   "id": "a1a23a8c",
   "metadata": {},
   "outputs": [],
   "source": [
    "print(sim.integrator)"
   ]
  },
  {
   "cell_type": "code",
   "execution_count": null,
   "id": "7c7230b2",
   "metadata": {},
   "outputs": [],
   "source": [
    "print(sim.method)"
   ]
  },
  {
   "cell_type": "code",
   "execution_count": null,
   "id": "45b2f544",
   "metadata": {},
   "outputs": [],
   "source": [
    "# Change simulation parameters like dt\n",
    "print(sim.integrator.dt)\n",
    "sim.dt = 0.0001\n",
    "print(sim.integrator.dt)"
   ]
  },
  {
   "cell_type": "code",
   "execution_count": null,
   "id": "d5c42ead",
   "metadata": {},
   "outputs": [],
   "source": [
    "# Calling a run function again will update the method if needed\n",
    "print(sim.method)\n",
    "sim.run_NPT(n_steps=0, pressure=0.001, kT=1.0, tau_kt=0.01, tau_pressure=0.1)\n",
    "print(sim.method)"
   ]
  },
  {
   "cell_type": "markdown",
   "id": "26dcc8fa",
   "metadata": {},
   "source": [
    "# Combining the run functions to get an equilibrated system\n",
    "- First, call the `run_shrink` function to get the box down to the desired density\n",
    "- Next, run in the NPT ensemble to get an equilibrated volume\n",
    "- Finally, run at NVT to get an equilibrated morphology"
   ]
  },
  {
   "cell_type": "code",
   "execution_count": null,
   "id": "c1d6f260",
   "metadata": {},
   "outputs": [],
   "source": [
    "# Build up a polyethylene system of 10 10mers, apply an OPLS forcefield\n",
    "sys = System(molecule=PolyEthylene, n_mols=[10], chain_lengths=[10], density=1.3)\n",
    "sys.pack()\n",
    "sys.apply_forcefield(forcefield=GAFF())"
   ]
  },
  {
   "cell_type": "code",
   "execution_count": null,
   "id": "6b1c6f88",
   "metadata": {},
   "outputs": [],
   "source": [
    "# We can use the target_box attribute to help with the shrink run\n",
    "# Remember we'll have to convert from nm to angstroms\n",
    "# Remember to account for the reference distance if using auto scaling\n",
    "sys.target_box"
   ]
  },
  {
   "cell_type": "code",
   "execution_count": null,
   "id": "e31ca141",
   "metadata": {},
   "outputs": [],
   "source": [
    "sim = Simulation(system=sys.typed_system, auto_scale=True)"
   ]
  },
  {
   "cell_type": "code",
   "execution_count": null,
   "id": "e8da6af2",
   "metadata": {},
   "outputs": [],
   "source": [
    "# This is in angstroms:\n",
    "sim.ref_distance"
   ]
  },
  {
   "cell_type": "code",
   "execution_count": null,
   "id": "98a50495",
   "metadata": {},
   "outputs": [],
   "source": [
    "sim.run_shrink(\n",
    "    kT=5.0,\n",
    "    final_box_lengths=sys.target_box * 10 / sim.ref_distance,\n",
    "    n_steps=1e4,\n",
    "    tau_kt = 0.01,\n",
    "    period=100,\n",
    ")"
   ]
  },
  {
   "cell_type": "code",
   "execution_count": null,
   "id": "6b7cad7f",
   "metadata": {},
   "outputs": [],
   "source": []
  }
 ],
 "metadata": {
  "kernelspec": {
   "display_name": "Python 3 (ipykernel)",
   "language": "python",
   "name": "python3"
  },
  "language_info": {
   "codemirror_mode": {
    "name": "ipython",
    "version": 3
   },
   "file_extension": ".py",
   "mimetype": "text/x-python",
   "name": "python",
   "nbconvert_exporter": "python",
   "pygments_lexer": "ipython3",
   "version": "3.9.16"
  }
 },
 "nbformat": 4,
 "nbformat_minor": 5
}
